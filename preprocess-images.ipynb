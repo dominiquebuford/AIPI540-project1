{
 "cells": [
  {
   "cell_type": "markdown",
   "metadata": {},
   "source": [
    "# Preprocess Images for Classification\n",
    "Crop and standardize image sizes for classification."
   ]
  },
  {
   "cell_type": "code",
   "execution_count": 15,
   "metadata": {},
   "outputs": [],
   "source": [
    "import os\n",
    "import json\n",
    "from PIL import Image, ImageOps\n",
    "import shutil"
   ]
  },
  {
   "cell_type": "markdown",
   "metadata": {},
   "source": [
    "## Load data and paths"
   ]
  },
  {
   "cell_type": "code",
   "execution_count": 16,
   "metadata": {},
   "outputs": [
    {
     "name": "stdout",
     "output_type": "stream",
     "text": [
      "train_output_dir: ../filtered_data/train\n",
      "val_output_dir: ../filtered_data/val\n",
      "train_images_dir: ../filtered_data/train/images\n",
      "train_ann_file: ../filtered_data/train/final_ann.json\n",
      "val_images_dir: ../filtered_data/val/images\n",
      "val_ann_file: ../filtered_data/val/final_ann.json\n"
     ]
    }
   ],
   "source": [
    "# Base directory paths\n",
    "base_dir = \"../filtered_data\"\n",
    "\n",
    "# Output directory paths\n",
    "train_output_dir = os.path.join(base_dir, \"train\")\n",
    "val_output_dir = os.path.join(base_dir, \"val\")\n",
    "# Create output directories\n",
    "os.makedirs(train_output_dir, exist_ok=True)\n",
    "os.makedirs(val_output_dir, exist_ok=True)\n",
    "\n",
    "# Output image and annotation paths\n",
    "train_images_dir = os.path.join(train_output_dir, \"images\")\n",
    "train_ann_file = os.path.join(train_output_dir, \"final_ann.json\")\n",
    "val_images_dir = os.path.join(val_output_dir, \"images\")\n",
    "val_ann_file = os.path.join(val_output_dir, \"final_ann.json\")\n",
    "\n",
    "print('train_output_dir:', train_output_dir)\n",
    "print('val_output_dir:', val_output_dir)\n",
    "\n",
    "print('train_images_dir:', train_images_dir)\n",
    "print('train_ann_file:', train_ann_file)\n",
    "print('val_images_dir:', val_images_dir)\n",
    "print('val_ann_file:', val_ann_file)\n",
    "\n",
    "# Load COCO annotations\n",
    "with open(train_ann_file) as f:\n",
    "    train_data = json.load(f)\n",
    "\n",
    "with open(val_ann_file) as f:\n",
    "    val_data = json.load(f)"
   ]
  },
  {
   "cell_type": "code",
   "execution_count": 17,
   "metadata": {},
   "outputs": [],
   "source": [
    "def crop_images(annotations, images, source_dir, output_dir):\n",
    "    \"\"\"\n",
    "    Crops images based on bounding box annotations and saves the cropped images and their category IDs.\n",
    "\n",
    "    Inputs:\n",
    "        annotations (list): A list of dictionaries, each containing the bounding box and category ID for an image.\n",
    "        images (list): A list of dictionaries, each containing the image ID and file name.\n",
    "        source_dir (str): The directory path where the original images are stored.\n",
    "        output_dir (str): The base directory path where the cropped images and labels JSON will be saved.\n",
    "\n",
    "    Returns:\n",
    "        cropped_images_info (list): A list of dictionaries, each containing information about the original and cropped image file names.\n",
    "    \"\"\"\n",
    "    # Create a directory to save the cropped images\n",
    "    image_cropped_dir = os.path.join(output_dir, 'cropped_images')\n",
    "    # Ensure the output directory is clean\n",
    "    if os.path.exists(image_cropped_dir):\n",
    "        shutil.rmtree(image_cropped_dir)\n",
    "    # Recreate the output directory\n",
    "    os.makedirs(image_cropped_dir)\n",
    "\n",
    "    labels_file = os.path.join(output_dir, 'cropped_labels.json')\n",
    "\n",
    "    # Ensure output directories exist\n",
    "    os.makedirs(image_cropped_dir, exist_ok=True)\n",
    "\n",
    "    # Map image ids to file names and category ids\n",
    "    image_id_to_file_name = {image['id']: image['file_name'] for image in images}\n",
    "    image_cat_ids = {}\n",
    "\n",
    "    cropped_images_info = []\n",
    "\n",
    "    for annotation in annotations:\n",
    "        image_id = annotation['image_id']\n",
    "        category_id = annotation['category_id']\n",
    "        if image_id in image_id_to_file_name:\n",
    "            file_name = image_id_to_file_name[image_id]\n",
    "            bbox = annotation['bbox']\n",
    "            left, top, width, height = bbox\n",
    "            right = left + width\n",
    "            bottom = top + height\n",
    "            \n",
    "            try:\n",
    "                with Image.open(os.path.join(source_dir, file_name)) as img:\n",
    "                    cropped_img = img.crop((left, top, right, bottom))\n",
    "                    new_file_name = f\"cropped_{annotation['id']}_{file_name}\"\n",
    "                    output_path = os.path.join(image_cropped_dir, new_file_name)\n",
    "                    cropped_img.save(output_path)\n",
    "                    cropped_images_info.append({'original_image': file_name, 'cropped_image': new_file_name})\n",
    "                    # Save image id as key and category id as value\n",
    "                    image_cat_ids[new_file_name] = category_id\n",
    "            except Exception as e:\n",
    "                print(f\"Error processing {file_name}: {e}\")\n",
    "    \n",
    "    # Save image category IDs to JSON file\n",
    "    with open(labels_file, 'w') as f:\n",
    "        json.dump(image_cat_ids, f)\n",
    "\n",
    "    return cropped_images_info"
   ]
  },
  {
   "cell_type": "markdown",
   "metadata": {},
   "source": [
    "### Crop Train Images"
   ]
  },
  {
   "cell_type": "code",
   "execution_count": 18,
   "metadata": {},
   "outputs": [
    {
     "data": {
      "text/plain": [
       "[{'original_image': '131094.jpg',\n",
       "  'cropped_image': 'cropped_184135_131094.jpg'},\n",
       " {'original_image': '131094.jpg',\n",
       "  'cropped_image': 'cropped_184138_131094.jpg'},\n",
       " {'original_image': '131094.jpg',\n",
       "  'cropped_image': 'cropped_184139_131094.jpg'},\n",
       " {'original_image': '131094.jpg',\n",
       "  'cropped_image': 'cropped_184988_131094.jpg'},\n",
       " {'original_image': '131094.jpg',\n",
       "  'cropped_image': 'cropped_184989_131094.jpg'}]"
      ]
     },
     "execution_count": 18,
     "metadata": {},
     "output_type": "execute_result"
    }
   ],
   "source": [
    "# Crop and save train images\n",
    "cropped_train_info = crop_images(train_data['annotations'], train_data['images'], train_images_dir, train_output_dir)\n",
    "\n",
    "# Display some of the cropped images information to verify the process\n",
    "cropped_train_info[:5]"
   ]
  },
  {
   "cell_type": "markdown",
   "metadata": {},
   "source": [
    "### Crop Validation Images"
   ]
  },
  {
   "cell_type": "code",
   "execution_count": 19,
   "metadata": {},
   "outputs": [
    {
     "name": "stdout",
     "output_type": "stream",
     "text": [
      "../filtered_data/val/images\n",
      "551\n"
     ]
    }
   ],
   "source": [
    "print(val_images_dir)\n",
    "\n",
    "# print the number of files in val_images_dir\n",
    "print(len(os.listdir(val_images_dir)))"
   ]
  },
  {
   "cell_type": "code",
   "execution_count": 20,
   "metadata": {},
   "outputs": [
    {
     "data": {
      "text/plain": [
       "[{'original_image': '134535.jpg',\n",
       "  'cropped_image': 'cropped_188824_134535.jpg'},\n",
       " {'original_image': '134535.jpg',\n",
       "  'cropped_image': 'cropped_188826_134535.jpg'},\n",
       " {'original_image': '123727.jpg',\n",
       "  'cropped_image': 'cropped_174359_123727.jpg'},\n",
       " {'original_image': '174956.jpg',\n",
       "  'cropped_image': 'cropped_300210_174956.jpg'},\n",
       " {'original_image': '105173.jpg',\n",
       "  'cropped_image': 'cropped_149259_105173.jpg'}]"
      ]
     },
     "execution_count": 20,
     "metadata": {},
     "output_type": "execute_result"
    }
   ],
   "source": [
    "# Crop and save validation images\n",
    "cropped_val_info = crop_images(val_data['annotations'], val_data['images'], val_images_dir, val_output_dir)\n",
    "\n",
    "# Display some of the cropped images information to verify the process\n",
    "cropped_val_info[:5]"
   ]
  },
  {
   "cell_type": "code",
   "execution_count": 21,
   "metadata": {},
   "outputs": [
    {
     "name": "stdout",
     "output_type": "stream",
     "text": [
      "Number of cropped validation images: 36501\n"
     ]
    }
   ],
   "source": [
    "num_cropped_val = len(os.listdir('../filtered_data/train/cropped_images'))\n",
    "print(f\"Number of cropped validation images: {num_cropped_val}\")"
   ]
  },
  {
   "cell_type": "markdown",
   "metadata": {},
   "source": [
    "## Standardize Images"
   ]
  },
  {
   "cell_type": "code",
   "execution_count": 22,
   "metadata": {},
   "outputs": [],
   "source": [
    "# Function to standardize the size of cropped images\n",
    "def standardize_image_sizes(input_dir, output_size=(224, 224)):\n",
    "    \"\"\"\n",
    "    Resizes all images in a given directory to a specified size, maintaining aspect ratio.\n",
    "\n",
    "    This function iterates over each image file in the specified directory, resizes the image to the given dimensions\n",
    "    using the PIL.ImageOps.fit method (which maintains the image's aspect ratio by cropping as necessary),\n",
    "    and overwrites the original image file with the resized image.\n",
    "\n",
    "    Inputs:\n",
    "        input_dir (str): The directory containing the images to be resized.\n",
    "        output_size (tuple): The target size for the resized images as a tuple (width, height). Default is (224, 224).\n",
    "\n",
    "    Returns:\n",
    "        standardized_images_info (list): List of dictionaries, each containing the file name of an image and its new size.\n",
    "    \"\"\"\n",
    "    standardized_images_info = []\n",
    "\n",
    "    for image_file in os.listdir(input_dir):\n",
    "        input_path = os.path.join(input_dir, image_file)\n",
    "        try:\n",
    "            with Image.open(input_path) as img:\n",
    "                # Resize image using default resampling method\n",
    "                img_resized = ImageOps.fit(img, output_size)\n",
    "                # Save the resized image\n",
    "                img_resized.save(input_path)\n",
    "                standardized_images_info.append({'image': image_file, 'new_size': img_resized.size})\n",
    "        except Exception as e:\n",
    "            print(f\"Error processing {image_file}: {e}\")\n",
    "\n",
    "    return standardized_images_info\n"
   ]
  },
  {
   "cell_type": "markdown",
   "metadata": {},
   "source": [
    "### Standardize Train Images"
   ]
  },
  {
   "cell_type": "code",
   "execution_count": 23,
   "metadata": {},
   "outputs": [
    {
     "data": {
      "text/plain": [
       "[{'image': 'cropped_109264_070674.jpg', 'new_size': (224, 224)},\n",
       " {'image': 'cropped_146262_103049.jpg', 'new_size': (224, 224)},\n",
       " {'image': 'cropped_76046_042043.jpg', 'new_size': (224, 224)},\n",
       " {'image': 'cropped_103881_066829.jpg', 'new_size': (224, 224)},\n",
       " {'image': 'cropped_110794_072057.jpg', 'new_size': (224, 224)}]"
      ]
     },
     "execution_count": 23,
     "metadata": {},
     "output_type": "execute_result"
    }
   ],
   "source": [
    "train_cropped_dir = os.path.join(train_output_dir, 'cropped_images')\n",
    "\n",
    "# Standardize the sizes of the cropped images and display some of the processed images information\n",
    "standardize_train_info = standardize_image_sizes(train_cropped_dir)\n",
    "\n",
    "# Since we encountered errors previously due to the directory structure, \n",
    "# this code assumes the correction of those errors and that images are now correctly accessible.\n",
    "# Displaying information of a few standardized images (if available)\n",
    "standardize_train_info[:5]"
   ]
  },
  {
   "cell_type": "markdown",
   "metadata": {},
   "source": [
    "### Standardize Validation Images"
   ]
  },
  {
   "cell_type": "code",
   "execution_count": 24,
   "metadata": {},
   "outputs": [
    {
     "data": {
      "text/plain": [
       "[{'image': 'cropped_172285_122113.jpg', 'new_size': (224, 224)},\n",
       " {'image': 'cropped_245743_154073.jpg', 'new_size': (224, 224)},\n",
       " {'image': 'cropped_209006_139376.jpg', 'new_size': (224, 224)},\n",
       " {'image': 'cropped_246408_153216.jpg', 'new_size': (224, 224)},\n",
       " {'image': 'cropped_149259_105173.jpg', 'new_size': (224, 224)}]"
      ]
     },
     "execution_count": 24,
     "metadata": {},
     "output_type": "execute_result"
    }
   ],
   "source": [
    "val_cropped_dir = os.path.join(val_output_dir, 'cropped_images')\n",
    "\n",
    "# Standardize the sizes of the cropped validation images and display some of the processed images information\n",
    "standardize_val_info = standardize_image_sizes(val_cropped_dir)\n",
    "\n",
    "# Since we encountered errors previously due to the directory structure,\n",
    "# this code assumes the correction of those errors and that images are now correctly accessible.\n",
    "# Displaying information of a few standardized images (if available)\n",
    "standardize_val_info[:5]"
   ]
  },
  {
   "cell_type": "code",
   "execution_count": 25,
   "metadata": {},
   "outputs": [
    {
     "name": "stdout",
     "output_type": "stream",
     "text": [
      "Number of cropped train images: 36501\n",
      "Number of cropped validation images: 782\n"
     ]
    }
   ],
   "source": [
    "# get the number of images in the cropped directory\n",
    "num_cropped_train = len(os.listdir('../filtered_data/train/cropped_images'))\n",
    "print(f\"Number of cropped train images: {num_cropped_train}\")\n",
    "\n",
    "num_cropped_val = len(os.listdir('../filtered_data/val/cropped_images'))\n",
    "print(f\"Number of cropped validation images: {num_cropped_val}\")"
   ]
  }
 ],
 "metadata": {
  "kernelspec": {
   "display_name": "env",
   "language": "python",
   "name": "python3"
  },
  "language_info": {
   "codemirror_mode": {
    "name": "ipython",
    "version": 3
   },
   "file_extension": ".py",
   "mimetype": "text/x-python",
   "name": "python",
   "nbconvert_exporter": "python",
   "pygments_lexer": "ipython3",
   "version": "3.11.6"
  },
  "orig_nbformat": 4
 },
 "nbformat": 4,
 "nbformat_minor": 2
}

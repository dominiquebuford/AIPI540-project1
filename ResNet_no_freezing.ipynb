{
  "nbformat": 4,
  "nbformat_minor": 0,
  "metadata": {
    "colab": {
      "provenance": [],
      "gpuType": "T4",
      "authorship_tag": "ABX9TyOO9NsSOsjBsqN9QHLEhH6S",
      "include_colab_link": true
    },
    "kernelspec": {
      "name": "python3",
      "display_name": "Python 3"
    },
    "language_info": {
      "name": "python"
    },
    "accelerator": "GPU"
  },
  "cells": [
    {
      "cell_type": "markdown",
      "metadata": {
        "id": "view-in-github",
        "colab_type": "text"
      },
      "source": [
        "<a href=\"https://colab.research.google.com/github/dominiquebuford/AIPI540-project1/blob/main/ResNet_no_freezing.ipynb\" target=\"_parent\"><img src=\"https://colab.research.google.com/assets/colab-badge.svg\" alt=\"Open In Colab\"/></a>"
      ]
    },
    {
      "cell_type": "markdown",
      "source": [
        "Import Necessary Libraries and Set up Kaggle API"
      ],
      "metadata": {
        "id": "3pLW4p_Qpzhq"
      }
    },
    {
      "cell_type": "code",
      "execution_count": null,
      "metadata": {
        "id": "URQwPPvxSwtT"
      },
      "outputs": [],
      "source": [
        "#import necessary dependencies\n",
        "import os\n",
        "import torchvision\n",
        "import torch.nn as nn\n",
        "import torch\n",
        "import torch.nn.functional as F\n",
        "from torchvision import transforms,models,datasets\n",
        "import matplotlib.pyplot as plt\n",
        "from PIL import Image\n",
        "import numpy as np\n",
        "from torch import optim\n",
        "device = 'cuda' if torch.cuda.is_available() else 'cpu'\n",
        "import cv2, glob, numpy as np, pandas as pd\n",
        "import matplotlib.pyplot as plt\n",
        "from glob import glob\n",
        "import torchvision.transforms as transforms\n",
        "from torch.utils.data import DataLoader, Dataset\n",
        "from torchvision.datasets import ImageFolder\n",
        "import torchvision.transforms as transforms\n",
        "from torch.utils.data import random_split\n",
        "!pip install optuna\n",
        "import optuna"
      ]
    },
    {
      "cell_type": "code",
      "source": [
        "# set up access to Kaggle API\n",
        "!pip install -q kaggle\n",
        "from google.colab import files\n",
        "files.upload()\n",
        "!mkdir -p ~/.kaggle\n",
        "!cp kaggle.json ~/.kaggle/\n",
        "!ls ~/.kaggle\n",
        "!chmod 600 /root/.kaggle/kaggle.json\n"
      ],
      "metadata": {
        "colab": {
          "base_uri": "https://localhost:8080/",
          "height": 90
        },
        "id": "VkwYUG8bUMsZ",
        "outputId": "93d6dbdc-b9c1-4665-821e-c378f7cc9526"
      },
      "execution_count": null,
      "outputs": [
        {
          "output_type": "display_data",
          "data": {
            "text/plain": [
              "<IPython.core.display.HTML object>"
            ],
            "text/html": [
              "\n",
              "     <input type=\"file\" id=\"files-bc302357-25d8-4c40-a6fd-6aba23ef2cbf\" name=\"files[]\" multiple disabled\n",
              "        style=\"border:none\" />\n",
              "     <output id=\"result-bc302357-25d8-4c40-a6fd-6aba23ef2cbf\">\n",
              "      Upload widget is only available when the cell has been executed in the\n",
              "      current browser session. Please rerun this cell to enable.\n",
              "      </output>\n",
              "      <script>// Copyright 2017 Google LLC\n",
              "//\n",
              "// Licensed under the Apache License, Version 2.0 (the \"License\");\n",
              "// you may not use this file except in compliance with the License.\n",
              "// You may obtain a copy of the License at\n",
              "//\n",
              "//      http://www.apache.org/licenses/LICENSE-2.0\n",
              "//\n",
              "// Unless required by applicable law or agreed to in writing, software\n",
              "// distributed under the License is distributed on an \"AS IS\" BASIS,\n",
              "// WITHOUT WARRANTIES OR CONDITIONS OF ANY KIND, either express or implied.\n",
              "// See the License for the specific language governing permissions and\n",
              "// limitations under the License.\n",
              "\n",
              "/**\n",
              " * @fileoverview Helpers for google.colab Python module.\n",
              " */\n",
              "(function(scope) {\n",
              "function span(text, styleAttributes = {}) {\n",
              "  const element = document.createElement('span');\n",
              "  element.textContent = text;\n",
              "  for (const key of Object.keys(styleAttributes)) {\n",
              "    element.style[key] = styleAttributes[key];\n",
              "  }\n",
              "  return element;\n",
              "}\n",
              "\n",
              "// Max number of bytes which will be uploaded at a time.\n",
              "const MAX_PAYLOAD_SIZE = 100 * 1024;\n",
              "\n",
              "function _uploadFiles(inputId, outputId) {\n",
              "  const steps = uploadFilesStep(inputId, outputId);\n",
              "  const outputElement = document.getElementById(outputId);\n",
              "  // Cache steps on the outputElement to make it available for the next call\n",
              "  // to uploadFilesContinue from Python.\n",
              "  outputElement.steps = steps;\n",
              "\n",
              "  return _uploadFilesContinue(outputId);\n",
              "}\n",
              "\n",
              "// This is roughly an async generator (not supported in the browser yet),\n",
              "// where there are multiple asynchronous steps and the Python side is going\n",
              "// to poll for completion of each step.\n",
              "// This uses a Promise to block the python side on completion of each step,\n",
              "// then passes the result of the previous step as the input to the next step.\n",
              "function _uploadFilesContinue(outputId) {\n",
              "  const outputElement = document.getElementById(outputId);\n",
              "  const steps = outputElement.steps;\n",
              "\n",
              "  const next = steps.next(outputElement.lastPromiseValue);\n",
              "  return Promise.resolve(next.value.promise).then((value) => {\n",
              "    // Cache the last promise value to make it available to the next\n",
              "    // step of the generator.\n",
              "    outputElement.lastPromiseValue = value;\n",
              "    return next.value.response;\n",
              "  });\n",
              "}\n",
              "\n",
              "/**\n",
              " * Generator function which is called between each async step of the upload\n",
              " * process.\n",
              " * @param {string} inputId Element ID of the input file picker element.\n",
              " * @param {string} outputId Element ID of the output display.\n",
              " * @return {!Iterable<!Object>} Iterable of next steps.\n",
              " */\n",
              "function* uploadFilesStep(inputId, outputId) {\n",
              "  const inputElement = document.getElementById(inputId);\n",
              "  inputElement.disabled = false;\n",
              "\n",
              "  const outputElement = document.getElementById(outputId);\n",
              "  outputElement.innerHTML = '';\n",
              "\n",
              "  const pickedPromise = new Promise((resolve) => {\n",
              "    inputElement.addEventListener('change', (e) => {\n",
              "      resolve(e.target.files);\n",
              "    });\n",
              "  });\n",
              "\n",
              "  const cancel = document.createElement('button');\n",
              "  inputElement.parentElement.appendChild(cancel);\n",
              "  cancel.textContent = 'Cancel upload';\n",
              "  const cancelPromise = new Promise((resolve) => {\n",
              "    cancel.onclick = () => {\n",
              "      resolve(null);\n",
              "    };\n",
              "  });\n",
              "\n",
              "  // Wait for the user to pick the files.\n",
              "  const files = yield {\n",
              "    promise: Promise.race([pickedPromise, cancelPromise]),\n",
              "    response: {\n",
              "      action: 'starting',\n",
              "    }\n",
              "  };\n",
              "\n",
              "  cancel.remove();\n",
              "\n",
              "  // Disable the input element since further picks are not allowed.\n",
              "  inputElement.disabled = true;\n",
              "\n",
              "  if (!files) {\n",
              "    return {\n",
              "      response: {\n",
              "        action: 'complete',\n",
              "      }\n",
              "    };\n",
              "  }\n",
              "\n",
              "  for (const file of files) {\n",
              "    const li = document.createElement('li');\n",
              "    li.append(span(file.name, {fontWeight: 'bold'}));\n",
              "    li.append(span(\n",
              "        `(${file.type || 'n/a'}) - ${file.size} bytes, ` +\n",
              "        `last modified: ${\n",
              "            file.lastModifiedDate ? file.lastModifiedDate.toLocaleDateString() :\n",
              "                                    'n/a'} - `));\n",
              "    const percent = span('0% done');\n",
              "    li.appendChild(percent);\n",
              "\n",
              "    outputElement.appendChild(li);\n",
              "\n",
              "    const fileDataPromise = new Promise((resolve) => {\n",
              "      const reader = new FileReader();\n",
              "      reader.onload = (e) => {\n",
              "        resolve(e.target.result);\n",
              "      };\n",
              "      reader.readAsArrayBuffer(file);\n",
              "    });\n",
              "    // Wait for the data to be ready.\n",
              "    let fileData = yield {\n",
              "      promise: fileDataPromise,\n",
              "      response: {\n",
              "        action: 'continue',\n",
              "      }\n",
              "    };\n",
              "\n",
              "    // Use a chunked sending to avoid message size limits. See b/62115660.\n",
              "    let position = 0;\n",
              "    do {\n",
              "      const length = Math.min(fileData.byteLength - position, MAX_PAYLOAD_SIZE);\n",
              "      const chunk = new Uint8Array(fileData, position, length);\n",
              "      position += length;\n",
              "\n",
              "      const base64 = btoa(String.fromCharCode.apply(null, chunk));\n",
              "      yield {\n",
              "        response: {\n",
              "          action: 'append',\n",
              "          file: file.name,\n",
              "          data: base64,\n",
              "        },\n",
              "      };\n",
              "\n",
              "      let percentDone = fileData.byteLength === 0 ?\n",
              "          100 :\n",
              "          Math.round((position / fileData.byteLength) * 100);\n",
              "      percent.textContent = `${percentDone}% done`;\n",
              "\n",
              "    } while (position < fileData.byteLength);\n",
              "  }\n",
              "\n",
              "  // All done.\n",
              "  yield {\n",
              "    response: {\n",
              "      action: 'complete',\n",
              "    }\n",
              "  };\n",
              "}\n",
              "\n",
              "scope.google = scope.google || {};\n",
              "scope.google.colab = scope.google.colab || {};\n",
              "scope.google.colab._files = {\n",
              "  _uploadFiles,\n",
              "  _uploadFilesContinue,\n",
              "};\n",
              "})(self);\n",
              "</script> "
            ]
          },
          "metadata": {}
        },
        {
          "output_type": "stream",
          "name": "stdout",
          "text": [
            "Saving kaggle.json to kaggle.json\n",
            "kaggle.json\n"
          ]
        }
      ]
    },
    {
      "cell_type": "markdown",
      "source": [
        "Download Kaggle Dataset Into Current Directory"
      ],
      "metadata": {
        "id": "Hx-oVpH2p4Pq"
      }
    },
    {
      "cell_type": "code",
      "source": [
        "# download dataset from Kaggle and unzip file to store dataset in colab\n",
        "!kaggle datasets download -d itsahmad/indoor-scenes-cvpr-2019\n",
        "!unzip indoor-scenes-cvpr-2019.zip"
      ],
      "metadata": {
        "id": "relDBDLDTqsb"
      },
      "execution_count": null,
      "outputs": []
    },
    {
      "cell_type": "code",
      "source": [
        "images_dir = './indoorCVPR_09/Images/' #replace with location of your images"
      ],
      "metadata": {
        "id": "8UeWziVKbAem"
      },
      "execution_count": null,
      "outputs": []
    },
    {
      "cell_type": "code",
      "source": [
        "def create_datasets_with_transformations(image_dir):\n",
        "  transformations = transforms.Compose([\n",
        "      transforms.Resize((224, 224)),\n",
        "      transforms.RandomHorizontalFlip(),\n",
        "      transforms.RandomRotation(degrees=10),\n",
        "      transforms.ColorJitter(brightness=0.2, contrast=0.2, saturation=0.2, hue=0.2),\n",
        "      transforms.ToTensor(),\n",
        "      transforms.Normalize(mean=[0.485, 0.456, 0.406],std=[0.229, 0.224, 0.225]),  #normalize pixel values\n",
        "  ])\n",
        "  dataset = ImageFolder(image_dir, transform = transformations)\n",
        "  train_ds, val_ds, test_ds = random_split(dataset, [.6, .2, .2])\n",
        "  return train_ds, val_ds, test_ds, dataset.classes\n",
        "\n"
      ],
      "metadata": {
        "id": "1BOH1aHBtAhb"
      },
      "execution_count": null,
      "outputs": []
    },
    {
      "cell_type": "markdown",
      "source": [
        "Define Custom ResNet Model Class"
      ],
      "metadata": {
        "id": "b_xZi3h-qO_8"
      }
    },
    {
      "cell_type": "code",
      "source": [
        "class CustomResNet(nn.Module):\n",
        "  def __init__(self, fc_structure):\n",
        "    super().__init__()\n",
        "    self.model = models.resnet18(pretrained = True)\n",
        "    for param in self.model.parameters():\n",
        "      param.requires_grad = True\n",
        "    self.model.avgpool = nn.AdaptiveAvgPool2d(output_size=(1,1))\n",
        "    self.model.fc = fc_structure\n",
        "\n",
        "  def forward(self,x):\n",
        "    return self.model(x)\n"
      ],
      "metadata": {
        "id": "vcDar37ekhsJ"
      },
      "execution_count": null,
      "outputs": []
    },
    {
      "cell_type": "code",
      "source": [
        "def train_batch(x, y, model, opt, loss_fn):\n",
        "    opt.zero_grad()\n",
        "    model.train()\n",
        "    logits = model(x.cuda())\n",
        "    batch_loss = loss_fn(logits.squeeze(), y.cuda())\n",
        "    batch_loss.backward()\n",
        "    opt.step()\n",
        "    opt.zero_grad()\n",
        "    return batch_loss.item()"
      ],
      "metadata": {
        "id": "JR89ZPW1v0UX"
      },
      "execution_count": null,
      "outputs": []
    },
    {
      "cell_type": "code",
      "source": [
        "@torch.no_grad()\n",
        "def accuracy(x, y, model):\n",
        "    model.eval()\n",
        "    logits = model(x.cuda())\n",
        "    pred = logits.argmax(1).flatten().cpu()\n",
        "    is_correct = (pred) == y\n",
        "    return is_correct.numpy().tolist()\n"
      ],
      "metadata": {
        "id": "EC7MaBy0wE5q"
      },
      "execution_count": null,
      "outputs": []
    },
    {
      "cell_type": "markdown",
      "source": [
        "Try Different Structures for FC layer"
      ],
      "metadata": {
        "id": "w6HUnlYHqYNR"
      }
    },
    {
      "cell_type": "code",
      "source": [
        "structure_1 = nn.Sequential(nn.Flatten(),\n",
        "    nn.Linear(512, 128),\n",
        "    nn.ReLU(),\n",
        "    nn.Dropout(0.2),\n",
        "    nn.Linear(128, len(classes)),\n",
        "    nn.Softmax(dim=1))\n",
        "\n",
        "structure_2 = nn.Sequential(nn.Flatten(),\n",
        "    nn.Linear(512, 128),\n",
        "    nn.ReLU(),\n",
        "    nn.Dropout(0.1),\n",
        "    nn.Linear(128, 128),\n",
        "    nn.ReLU(),\n",
        "    nn.Linear(128, 100),\n",
        "    nn.ReLU(),\n",
        "    nn.Linear(100, len(classes)),\n",
        "    nn.Softmax(dim =1))\n",
        "\n",
        "\n"
      ],
      "metadata": {
        "id": "q-mjWNIJiJMu"
      },
      "execution_count": null,
      "outputs": []
    },
    {
      "cell_type": "markdown",
      "source": [
        "Create Tensor Dataloaders"
      ],
      "metadata": {
        "id": "AkIwoVjXqg4a"
      }
    },
    {
      "cell_type": "code",
      "source": [
        "train_ds, val_ds, test_ds, classes = create_datasets_with_transformations(images_dir)\n"
      ],
      "metadata": {
        "id": "1Ibom78TnoQX"
      },
      "execution_count": null,
      "outputs": []
    },
    {
      "cell_type": "code",
      "source": [
        "def get_data(train_ds, val_ds):\n",
        "    trn_dl = DataLoader(train_ds, batch_size=32, shuffle=True, drop_last = True)\n",
        "    val_dl = DataLoader(val_ds, batch_size=32, shuffle=False, drop_last = True)\n",
        "    return trn_dl, val_dl"
      ],
      "metadata": {
        "id": "mLvh7gbcwGXm"
      },
      "execution_count": null,
      "outputs": []
    },
    {
      "cell_type": "markdown",
      "source": [
        "Define Optuna Objective"
      ],
      "metadata": {
        "id": "3YTGmu3PqkV1"
      }
    },
    {
      "cell_type": "code",
      "source": [
        "def objective(trial):\n",
        "    # Define hyperparameters to tune\n",
        "    learning_rate = trial.suggest_float('learning_rate', 1e-5, 1e-1, log=True)\n",
        "    epochs = trial.suggest_int('epochs', 20, 30)\n",
        "    # Create the transfer learning model with the given hyperparameters\n",
        "    model = CustomResNet(fc_structure = structure_2)\n",
        "    model = model.to(device)\n",
        "\n",
        "    # Set up optimizer, loss function, and other necessary components\n",
        "    optimizer = optim.SGD(model.parameters(), lr=learning_rate)\n",
        "    loss_fn = nn.CrossEntropyLoss()\n",
        "\n",
        "    train_ds, val_ds, test_ds, classes = create_datasets_with_transformations(images_dir)\n",
        "    trn_dl, val_dl = get_data(train_ds, val_ds)\n",
        "\n",
        "    train_accuracies, val_accuracies = [], []\n",
        "\n",
        "    for epoch in range(epochs):\n",
        "      print(f'Epoch {epoch+1}/{epochs}\\n')\n",
        "      train_epoch_accuracies, val_epoch_accuracies = [], []\n",
        "\n",
        "      for ix, batch in enumerate(iter(trn_dl)):\n",
        "          x, y = batch\n",
        "          train_batch(x, y, model, optimizer, loss_fn)\n",
        "\n",
        "      for ix, batch in enumerate(iter(trn_dl)):\n",
        "          x, y = batch\n",
        "          is_correct = accuracy(x, y, model)\n",
        "          train_epoch_accuracies.extend(is_correct)\n",
        "      train_epoch_accuracy = np.mean(train_epoch_accuracies)\n",
        "\n",
        "      for ix, batch in enumerate(iter(val_dl)):\n",
        "          x, y = batch\n",
        "          is_correct = accuracy(x, y, model)\n",
        "          val_epoch_accuracies.extend(is_correct)\n",
        "      val_epoch_accuracy = np.mean(val_epoch_accuracies)\n",
        "\n",
        "      val_accuracies.append(val_epoch_accuracy)\n",
        "\n",
        "    return max(train_accuracies)\n",
        "\n",
        "\n",
        "\n",
        "\n",
        "\n"
      ],
      "metadata": {
        "id": "1VfoUCU9raQk"
      },
      "execution_count": null,
      "outputs": []
    },
    {
      "cell_type": "code",
      "source": [
        "study = optuna.create_study(direction='maximize')  # or 'minimize' depending on your metric\n",
        "study.optimize(objective, n_trials=1)\n",
        "\n",
        "print('Number of finished trials: ', len(study.trials))\n",
        "print('Best trial:')\n",
        "trial = study.best_trial\n",
        "\n",
        "print('Value: ', trial.value)\n",
        "print('Params: ')\n",
        "for key, value in trial.params.items():\n",
        "    print(f'    {key}: {value}')"
      ],
      "metadata": {
        "id": "Fl-xFuYrsppv"
      },
      "execution_count": null,
      "outputs": []
    },
    {
      "cell_type": "markdown",
      "source": [
        "Rerun Model with Best Parameters Found"
      ],
      "metadata": {
        "id": "xZ04FDb3qnZq"
      }
    },
    {
      "cell_type": "code",
      "source": [
        "#run final model with best parameters from optuna\n",
        "best_params = trial.params\n",
        "\n",
        "model = CustomResNet(fc_structure = structure_2)\n",
        "model = model.to(device)\n",
        "\n",
        "train_ds, val_ds, test_ds, classes = create_datasets_with_transformations(images_dir)\n",
        "trn_dl, val_dl = get_data(train_ds, val_ds)\n",
        "\n",
        "# Set up optimizer, loss function, and other necessary components\n",
        "optimizer = optim.SGD(model.parameters(), lr=best_params['learning_rate'])\n",
        "loss_fn = nn.CrossEntropyLoss()\n",
        "\n",
        "train_accuracies, val_accuracies = [], []\n",
        "\n",
        "for i in range(best_params['epochs'])\n",
        "  for ix, batch in enumerate(iter(trn_dl)):\n",
        "    x, y = batch\n",
        "    train_batch(x, y, model, optimizer, loss_fn)\n",
        "\n",
        "  train_epoch_accuracies, val_epoch_accuracies = [], []\n",
        "  for ix, batch in enumerate(iter(trn_dl)):\n",
        "    x, y = batch\n",
        "    is_correct = accuracy(x, y, model)\n",
        "    train_epoch_accuracies.extend(is_correct)\n",
        "  train_epoch_accuracy = np.mean(train_epoch_accuracies)\n",
        "  train_accuracies.append(train_epoch_accuracy)\n",
        "\n",
        "  for ix, batch in enumerate(iter(val_dl)):\n",
        "    x, y = batch\n",
        "    is_correct = accuracy(x, y, model)\n",
        "    val_epoch_accuracies.extend(is_correct)\n",
        "  val_epoch_accuracy = np.mean(val_epoch_accuracies)\n",
        "  val_accuracies.append(val_epoch_accuracy)\n",
        "\n"
      ],
      "metadata": {
        "id": "-C15RvAFxmrd"
      },
      "execution_count": null,
      "outputs": []
    },
    {
      "cell_type": "code",
      "source": [
        "epochs = np.arange(30)+1\n",
        "import matplotlib.ticker as mtick\n",
        "import matplotlib.pyplot as plt\n",
        "import matplotlib.ticker as mticker\n",
        "%matplotlib inline\n",
        "plt.plot(epochs, train_accuracies, 'bo', label='Training accuracy')\n",
        "plt.plot(epochs, val_accuracies, 'r', label='Validation accuracy')\n",
        "plt.gca().xaxis.set_major_locator(mticker.MultipleLocator(1))\n",
        "plt.title('Training and validation accuracy with ResNet18')\n",
        "plt.xlabel('Epochs')\n",
        "plt.ylabel('Accuracy')\n",
        "plt.ylim(0.01,1)\n",
        "plt.gca().set_yticklabels(['{:.0f}%'.format(x*100) for x in plt.gca().get_yticks()])\n",
        "plt.legend()\n",
        "plt.grid('off')\n",
        "plt.show()"
      ],
      "metadata": {
        "id": "DEb1FUcmwiud"
      },
      "execution_count": null,
      "outputs": []
    }
  ]
}
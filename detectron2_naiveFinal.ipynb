{
  "nbformat": 4,
  "nbformat_minor": 0,
  "metadata": {
    "colab": {
      "provenance": [],
      "authorship_tag": "ABX9TyMAZcMrE54/yrR/mX8nYjh3",
      "include_colab_link": true
    },
    "kernelspec": {
      "name": "python3",
      "display_name": "Python 3"
    },
    "language_info": {
      "name": "python"
    }
  },
  "cells": [
    {
      "cell_type": "markdown",
      "metadata": {
        "id": "view-in-github",
        "colab_type": "text"
      },
      "source": [
        "<a href=\"https://colab.research.google.com/github/dominiquebuford/AIPI540-project1/blob/dombuford/detectron2_naiveFinal.ipynb\" target=\"_parent\"><img src=\"https://colab.research.google.com/assets/colab-badge.svg\" alt=\"Open In Colab\"/></a>"
      ]
    },
    {
      "cell_type": "code",
      "execution_count": null,
      "metadata": {
        "id": "0LyCeXm50PCI"
      },
      "outputs": [],
      "source": [
        "#install necessary dependencies\n",
        "#install detectron2\n",
        "!python -m pip install 'git+https://github.com/facebookresearch/detectron2.git'\n",
        "\n",
        "# Some basic setup:\n",
        "import detectron2\n",
        "from detectron2.utils.logger import setup_logger\n",
        "setup_logger()\n",
        "\n",
        "# import some common libraries\n",
        "import numpy as np\n",
        "import pandas as pd\n",
        "import cv2\n",
        "import json\n",
        "from tqdm.notebook import tqdm\n",
        "\n",
        "# import some common detectron2 utilities\n",
        "from detectron2 import model_zoo\n",
        "from detectron2.engine import DefaultPredictor\n",
        "from detectron2.config import get_cfg\n",
        "from detectron2.utils.visualizer import Visualizer\n",
        "from detectron2.data import MetadataCatalog\n",
        "from detectron2.data import DatasetCatalog\n",
        "from detectron2.utils.visualizer import ColorMode\n",
        "from detectron2.data.datasets import register_coco_instances\n",
        "from detectron2.engine import DefaultTrainer\n",
        "from detectron2.evaluation import COCOEvaluator, inference_on_dataset\n",
        "from detectron2.data import build_detection_test_loader\n",
        "\n",
        "# For reading annotations file\n",
        "from pycocotools.coco import COCO\n",
        "\n",
        "# utilities\n",
        "from pprint import pprint\n",
        "from collections import OrderedDict\n",
        "import os\n",
        "\n",
        "# For data visualisation\n",
        "import matplotlib.pyplot as plt\n",
        "import plotly.graph_objects as go\n",
        "import plotly.express as px\n",
        "from google.colab.patches import cv2_imshow"
      ]
    },
    {
      "cell_type": "code",
      "source": [
        "def register_dataset(datasetName, annotationsPath, imagesPath):\n",
        "  register_coco_instances(datasetName, {}, annotationsPath, imagesPath)\n",
        "\n",
        "def set_up_configuration(trainedModelToUse):\n",
        "  cfg = get_cfg()\n",
        "  cfg.merge_from_file(model_zoo.get_config_file(trainedModelToUse))\n",
        "  #cfg.MODEL.ROI_HEADS.SCORE_THRESH_TEST = 0.7\n",
        "  cfg.MODEL.WEIGHTS = model_zoo.get_checkpoint_url(trainedModelToUse)\n",
        "  return cfg\n",
        "\n",
        "def makePredictions(cfg, datasetName):\n",
        "  predictor = DefaultPredictor(cfg)\n",
        "  evaluator = COCOEvaluator(datasetName, cfg, False, output_dir = \"./output\")\n",
        "\n",
        "  val_loader = build_detection_test_loader(cfg, datasetName)\n",
        "  valResults = inference_on_dataset(predictor.model, val_loader, evaluator)\n"
      ],
      "metadata": {
        "id": "FysxzQzc1xNG"
      },
      "execution_count": null,
      "outputs": []
    },
    {
      "cell_type": "code",
      "source": [
        "\"COCO-Detection/faster_rcnn_R_50_FPN_3x.yaml\"\n",
        "\n",
        "VAL_ANNOTATIONS_PATH= '/content/Project_1/annotations.json'  #replace with the path for validation annotation json file\n",
        "VAL_IMAGES_PATH = '/content/Project_1/S3_Data/Validation'    #replace with path to Validation image\n",
        "\n",
        "register_dataset('validation_dataset', VAL_ANNOTATIONS_PATH, VAL_IMAGES_PATH)\n",
        "cfg = set_up_configuration(\"COCO-Detection/faster_rcnn_R_50_FPN_3x.yaml\")\n",
        "\n",
        "\n",
        "makePredictions(cfg, \"validation_dataset\")\n",
        "\n"
      ],
      "metadata": {
        "id": "5MmcId2-0_3Y"
      },
      "execution_count": null,
      "outputs": []
    },
    {
      "cell_type": "code",
      "source": [
        "#evaluate with the naive model on the on the validation set\n",
        "\n",
        "val_metadata = MetadataCatalog.get(\"validation_dataset\")\n",
        "\n",
        "im = cv2.imread(\"/content/Project_1/S3_Data/Validation/008135.jpg\").  #replace with path for a singular validation image to see the prediction detections\n",
        "\n",
        "outputs = predictor(im)\n",
        "\n",
        "v = Visualizer(im[:, :, ::-1],\n",
        "                   metadata=val_metadata,\n",
        "                   scale=2,\n",
        "                   instance_mode=ColorMode.IMAGE_BW\n",
        "    )\n",
        "\n",
        "out = v.draw_instance_predictions(outputs[\"instances\"].to(\"cpu\"))\n",
        "cv2_imshow(out.get_image()[:, :, ::-1])"
      ],
      "metadata": {
        "id": "Qo1PHQIx5MPZ"
      },
      "execution_count": null,
      "outputs": []
    }
  ]
}
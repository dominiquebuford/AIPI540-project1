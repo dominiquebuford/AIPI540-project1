{
 "cells": [
  {
   "cell_type": "markdown",
   "metadata": {},
   "source": [
    "# SVC \n",
    "Using the classic ML approach to classify the foods."
   ]
  },
  {
   "cell_type": "code",
   "execution_count": 4,
   "metadata": {},
   "outputs": [
    {
     "ename": "ModuleNotFoundError",
     "evalue": "No module named 'skimage'",
     "output_type": "error",
     "traceback": [
      "\u001b[0;31m---------------------------------------------------------------------------\u001b[0m",
      "\u001b[0;31mModuleNotFoundError\u001b[0m                       Traceback (most recent call last)",
      "Cell \u001b[0;32mIn[4], line 13\u001b[0m\n\u001b[1;32m     11\u001b[0m \u001b[38;5;28;01mfrom\u001b[39;00m \u001b[38;5;21;01msklearn\u001b[39;00m\u001b[38;5;21;01m.\u001b[39;00m\u001b[38;5;21;01mpreprocessing\u001b[39;00m \u001b[38;5;28;01mimport\u001b[39;00m StandardScaler\n\u001b[1;32m     12\u001b[0m \u001b[38;5;28;01mfrom\u001b[39;00m \u001b[38;5;21;01msklearn\u001b[39;00m\u001b[38;5;21;01m.\u001b[39;00m\u001b[38;5;21;01mmetrics\u001b[39;00m \u001b[38;5;28;01mimport\u001b[39;00m classification_report\n\u001b[0;32m---> 13\u001b[0m \u001b[38;5;28;01mfrom\u001b[39;00m \u001b[38;5;21;01mskimage\u001b[39;00m\u001b[38;5;21;01m.\u001b[39;00m\u001b[38;5;21;01mio\u001b[39;00m \u001b[38;5;28;01mimport\u001b[39;00m imread\n\u001b[1;32m     14\u001b[0m \u001b[38;5;28;01mfrom\u001b[39;00m \u001b[38;5;21;01mskimage\u001b[39;00m\u001b[38;5;21;01m.\u001b[39;00m\u001b[38;5;21;01mio\u001b[39;00m \u001b[38;5;28;01mimport\u001b[39;00m ImageCollection\n\u001b[1;32m     15\u001b[0m \u001b[38;5;28;01mfrom\u001b[39;00m \u001b[38;5;21;01mskimage\u001b[39;00m\u001b[38;5;21;01m.\u001b[39;00m\u001b[38;5;21;01mtransform\u001b[39;00m \u001b[38;5;28;01mimport\u001b[39;00m resize\n",
      "\u001b[0;31mModuleNotFoundError\u001b[0m: No module named 'skimage'"
     ]
    }
   ],
   "source": [
    "# Import libraries\n",
    "import pandas as pd\n",
    "import numpy as np\n",
    "import os\n",
    "import sys\n",
    "import matplotlib.pyplot as plt\n",
    "from sklearn.model_selection import train_test_split\n",
    "from sklearn.metrics import accuracy_score\n",
    "from sklearn.model_selection import cross_val_score\n",
    "from sklearn.svm import SVC\n",
    "from sklearn.preprocessing import StandardScaler\n",
    "from sklearn.metrics import classification_report\n",
    "from skimage.io import imread\n",
    "from skimage.io import ImageCollection\n",
    "from skimage.transform import resize"
   ]
  },
  {
   "cell_type": "code",
   "execution_count": null,
   "metadata": {},
   "outputs": [],
   "source": [
    "# Import data\n",
    "ic_train = ImageCollection('AIPI540_proj1_data/raw_data/public_training_set_release_2.0/images/*.jpg')\n",
    "ic_val = ImageCollection('AIPI540_proj1_data/raw_data/public_validation_set_release_2.0/images/*.jpg')\n",
    "ic_test = ImageCollection('AIPI540_proj1_data/raw_data/public_testing_set_release_2.0/images/*.jpg')\n",
    "\n",
    "# Create labels\n",
    "train_labels = json.load(open('AIPI540_proj1_data/raw_data/public_training_set_release_2.0/annotations.json'))\n",
    "val_labels = json.load(open('AIPI540_proj1_data/raw_data/public_validation_set_release_2.0/annotations.json'))\n",
    "test_labels = json.load(open('AIPI540_proj1_data/raw_data/public_testing_set_release_2.0/annotations.json'))\n",
    "\n",
    "# Create dataframe\n",
    "X = pd.DataFrame(ic_train)\n",
    "X = X.append(pd.DataFrame(ic_val))\n",
    "X = X.append(pd.DataFrame(ic_test))\n",
    "\n",
    "# Create dataframe for labels\n",
    "y = pd.DataFrame(train_labels['annotations'])\n",
    "y = y.append(pd.DataFrame(val_labels['annotations']))\n",
    "y = y.append(pd.DataFrame(test_labels['annotations']))"
   ]
  },
  {
   "cell_type": "code",
   "execution_count": null,
   "metadata": {},
   "outputs": [],
   "source": [
    "# Split data into training, validation, and test sets\n",
    "X_train, X_temp, y_train, y_temp = train_test_split(X, y, test_size=0.4, random_state=0)\n",
    "X_val, X_test, y_val, y_test = train_test_split(X_temp, y_temp, test_size=0.5, random_state=0)\n",
    "\n",
    "# Scale data\n",
    "scaler = StandardScaler()\n",
    "X_train_scaled = scaler.fit_transform(X_train)\n",
    "X_val_scaled = scaler.transform(X_val)\n",
    "X_test_scaled = scaler.transform(X_test)"
   ]
  },
  {
   "cell_type": "code",
   "execution_count": null,
   "metadata": {},
   "outputs": [],
   "source": [
    "# Define SVC\n",
    "kernels = ['linear', 'rbr', 'poly']\n",
    "C_vals = [0.1, 1, 10, 100]\n",
    "results = {}\n",
    "\n",
    "for kernel in kernels:\n",
    "    for C in C_vals:\n",
    "        model = SVC(kernel=kernel, C=C)\n",
    "        cross_val_scores = cross_val_score(model, X_train_scaled, y_train, cv=5, scoring='accuracy').mean()\n",
    "        results[(kernel, C)] = cross_val_scores\n",
    "\n",
    "# Find best parameters\n",
    "best_kernel, best_C = max(results, key=results.get)\n",
    "print('Best kernel:', best_kernel)\n",
    "print('Best C:', best_C)\n",
    "\n",
    "# Train model\n",
    "model = SVC(kernel=best_kernel, C=best_C)\n",
    "model.fit(X_train_scaled, y_train)\n",
    "\n",
    "# Validate model\n",
    "y_pred_val = model.predict(X_val_scaled)\n",
    "accuracy = accuracy_score(y_val, y_pred_val)\n",
    "print('Accuracy on Validation:', accuracy)\n",
    "\n",
    "classification_report = classification_report(y_val, y_pred_val)"
   ]
  },
  {
   "cell_type": "code",
   "execution_count": null,
   "metadata": {},
   "outputs": [],
   "source": [
    "# Test model\n",
    "y_pred_test = model.predict(X_test_scaled)\n",
    "accuracy_test = accuracy_score(y_test, y_pred_test)\n",
    "print('Accuracy on Test:', accuracy_test)\n",
    "\n",
    "classification_report_test = classification_report(y_test, y_pred_test)"
   ]
  }
 ],
 "metadata": {
  "kernelspec": {
   "display_name": "AIPI540",
   "language": "python",
   "name": "python3"
  },
  "language_info": {
   "codemirror_mode": {
    "name": "ipython",
    "version": 3
   },
   "file_extension": ".py",
   "mimetype": "text/x-python",
   "name": "python",
   "nbconvert_exporter": "python",
   "pygments_lexer": "ipython3",
   "version": "3.12.1"
  }
 },
 "nbformat": 4,
 "nbformat_minor": 2
}
